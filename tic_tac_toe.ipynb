{
  "nbformat": 4,
  "nbformat_minor": 0,
  "metadata": {
    "colab": {
      "provenance": []
    },
    "kernelspec": {
      "name": "python3",
      "display_name": "Python 3"
    },
    "language_info": {
      "name": "python"
    }
  },
  "cells": [
    {
      "cell_type": "code",
      "execution_count": 9,
      "metadata": {
        "id": "Im0hN7pqL9HM"
      },
      "outputs": [],
      "source": [
        "squares = [' ']*9\n",
        "players = 'XO'\n",
        "board = '''\n",
        "  0   1   2\n",
        "  {0} | {1} | {2}\n",
        " -----------\n",
        "3 {3} | {4} | {5} 5\n",
        " -----------\n",
        "  {6} | {7} | {8}\n",
        "  6   7   8\n",
        "'''\n",
        "win_conditions = [\n",
        "    (0, 1, 2), (3, 4, 5), (6, 7, 8), # horizontals\n",
        "    (0, 3, 6), (1, 4, 7), (2, 5, 8), # verticals\n",
        "    (0, 4, 8), (2, 4, 6)             # diagonals\n",
        "]"
      ]
    },
    {
      "cell_type": "code",
      "source": [
        "def check_win(player):\n",
        "    for a, b, c in win_conditions:\n",
        "        if {squares[a], squares[b], squares[c]} == {player}:\n",
        "            return True"
      ],
      "metadata": {
        "id": "Z9mqSddgMWPa"
      },
      "execution_count": 10,
      "outputs": []
    },
    {
      "cell_type": "code",
      "source": [
        "while True:\n",
        "    print(board.format(*squares))\n",
        "    if check_win(players[1]):\n",
        "        print(f'{players[1]} is the winner!')\n",
        "        break\n",
        "    if ' ' not in squares:\n",
        "        print('Cats game!')\n",
        "        break\n",
        "    move = input(f'{players[0]} to move [0-8] > ')\n",
        "    if not move.isdigit() or not 0 <= int(move) <= 8 or squares[int(move)] != ' ':\n",
        "        print('Invalid move!')\n",
        "        continue\n",
        "    squares[int(move)], players = players[0], players[::-1]"
      ],
      "metadata": {
        "id": "0ua_3g_eM05R"
      },
      "execution_count": null,
      "outputs": []
    }
  ]
}